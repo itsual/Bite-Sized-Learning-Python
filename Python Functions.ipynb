{
 "cells": [
  {
   "cell_type": "markdown",
   "metadata": {},
   "source": [
    "# Functions\n",
    "\n",
    "- A function is a block of reusable code that is used to perform a specific action\n",
    "- It helps in eliminating the need to write the same code over and over again\n",
    "- Built-in functions | User defined functions\n",
    "#### General syntax:\n",
    "  - def function_name(parameter list/argument):\n",
    "       - statements, i.e. the function body\n",
    "       \n",
    "- Refer this link for details of built in functions. https://www.w3schools.com/python/python_ref_functions.asp"
   ]
  },
  {
   "cell_type": "code",
   "execution_count": 1,
   "metadata": {},
   "outputs": [
    {
     "name": "stdout",
     "output_type": "stream",
     "text": [
      "Welcome to Small Group Coaching Session\n"
     ]
    }
   ],
   "source": [
    "def my_function():\n",
    "    print(\"Welcome to Small Group Coaching Session\")\n",
    "\n",
    "my_function()"
   ]
  },
  {
   "cell_type": "code",
   "execution_count": 2,
   "metadata": {},
   "outputs": [
    {
     "name": "stdout",
     "output_type": "stream",
     "text": [
      "Hello Learners\n",
      "Hello Everyone\n"
     ]
    }
   ],
   "source": [
    "# Passing Arguments\n",
    "def my_function(name):\n",
    "    print(\"Hello \" + name)\n",
    "\n",
    "my_function(\"Learners\")\n",
    "my_function(\"Everyone\")\n",
    "\n",
    "# Always remember to pass all the arguments that was defined in the function while calling it"
   ]
  },
  {
   "cell_type": "code",
   "execution_count": 3,
   "metadata": {},
   "outputs": [
    {
     "data": {
      "text/plain": [
       "15"
      ]
     },
     "execution_count": 3,
     "metadata": {},
     "output_type": "execute_result"
    }
   ],
   "source": [
    "# Return values\n",
    "\n",
    "def add_10(x):\n",
    "    return 10 + x\n",
    "\n",
    "add_10(5)"
   ]
  },
  {
   "cell_type": "code",
   "execution_count": 4,
   "metadata": {},
   "outputs": [
    {
     "name": "stdout",
     "output_type": "stream",
     "text": [
      "Welcome Harry\n",
      "Welcome Rachel\n",
      "Welcome Linda\n"
     ]
    }
   ],
   "source": [
    "# Arbitary arguments\n",
    "# when you do not know how many numbers of arguments are to be passed into a function\n",
    "\n",
    "def greet(*names):\n",
    "    for name in names:\n",
    "        print(\"Welcome\",name)\n",
    "\n",
    "greet(\"Harry\",\"Rachel\",\"Linda\") #argument is a tuple"
   ]
  },
  {
   "cell_type": "code",
   "execution_count": 5,
   "metadata": {},
   "outputs": [
    {
     "name": "stdout",
     "output_type": "stream",
     "text": [
      "Dog is a pet\n",
      "Cat is a pet\n"
     ]
    }
   ],
   "source": [
    "# Default Arguments\n",
    "\n",
    "def default_arg(disease = \"Dog\"):\n",
    "    print(disease + \" is a pet\")\n",
    "\n",
    "default_arg()\n",
    "default_arg(\"Cat\")"
   ]
  },
  {
   "cell_type": "markdown",
   "metadata": {},
   "source": [
    "#### Anonymous functions - Lambda\n",
    "\n",
    "- Functions that are not declared i.e. without the def keyword are called anonymous functions\n",
    "- The keyword for anonymous function is Lamba.\n",
    "- Lambda can take any number of arguments and returns one value.\n",
    "- It can be directly printed\n",
    "\n",
    "##### Syntax of lambda Functions\n",
    "- lambda [argument1, argument2, argument3....]:expression"
   ]
  },
  {
   "cell_type": "code",
   "execution_count": 6,
   "metadata": {},
   "outputs": [
    {
     "name": "stdout",
     "output_type": "stream",
     "text": [
      "9\n"
     ]
    }
   ],
   "source": [
    "#Anonymous functions - lambda\n",
    "\n",
    "square = lambda x: x*x\n",
    "print(square(3))"
   ]
  },
  {
   "cell_type": "code",
   "execution_count": 7,
   "metadata": {},
   "outputs": [
    {
     "data": {
      "text/plain": [
       "[0, 1, 4, 9, 16, 25, 36, 49, 64, 81]"
      ]
     },
     "execution_count": 7,
     "metadata": {},
     "output_type": "execute_result"
    }
   ],
   "source": [
    "squares = list(map(lambda x: x**2, range(10)))\n",
    "squares"
   ]
  },
  {
   "cell_type": "code",
   "execution_count": 8,
   "metadata": {},
   "outputs": [
    {
     "data": {
      "text/plain": [
       "[16, 4, 4, 9]"
      ]
     },
     "execution_count": 8,
     "metadata": {},
     "output_type": "execute_result"
    }
   ],
   "source": [
    "vec = [4, 2, -2, 3]\n",
    "squares_1 = list(map(lambda x: x**2, vec))\n",
    "squares_1 "
   ]
  },
  {
   "cell_type": "markdown",
   "metadata": {},
   "source": [
    "#### Recursive functions\n",
    "\n",
    "- A python function can call other functions. It can even call itself. These type of construct are called as recursive functions in python\n",
    "- Example-1: Finding the factorial of an integer\n",
    "- Example-2: Finding the fibonacci series\n",
    "  - Factorial of a number is the product of all the integers from 1 to that number.Say factorial of 4 is 4! = 1*2*3*4 = 24\n",
    "  - The Fibonacci series is the series of numbers starting with 0. The subsequent number is found by adding up the two numbers before it. 0, 1, 1, 2, 3, 5, 8, 13, 21, 34, ..."
   ]
  },
  {
   "cell_type": "code",
   "execution_count": 9,
   "metadata": {},
   "outputs": [
    {
     "name": "stdout",
     "output_type": "stream",
     "text": [
      "Factorial of  4 is 24\n"
     ]
    }
   ],
   "source": [
    "# Factorial\n",
    "def find_factorial(x):\n",
    "    if x == 1:\n",
    "        return 1\n",
    "    else:\n",
    "        return (x * find_factorial(x-1))\n",
    "\n",
    "\n",
    "a = 4\n",
    "print(\"Factorial of \", a, \"is\", find_factorial(a))"
   ]
  },
  {
   "cell_type": "code",
   "execution_count": 10,
   "metadata": {},
   "outputs": [
    {
     "name": "stdout",
     "output_type": "stream",
     "text": [
      "Recursion Results\n",
      "1\n",
      "3\n",
      "6\n",
      "10\n",
      "15\n"
     ]
    },
    {
     "data": {
      "text/plain": [
       "15"
      ]
     },
     "execution_count": 10,
     "metadata": {},
     "output_type": "execute_result"
    }
   ],
   "source": [
    "#  Fibonacci series\n",
    "def recur(k):\n",
    "    if(k > 0):\n",
    "        result = k + recur(k-1)\n",
    "        print(result)\n",
    "    else:\n",
    "        result = 0\n",
    "    return result\n",
    "\n",
    "print(\"Recursion Results\")\n",
    "recur(5)"
   ]
  },
  {
   "cell_type": "markdown",
   "metadata": {},
   "source": [
    "##### Note:\n",
    "- If the base case of recursion is not defined properly then the code would run indefinitely\n",
    "- Debugging is difficult as the function calls iteself in a loop\n",
    "- Reference: https://beginnersbook.com/2018/02/python-recursion/"
   ]
  },
  {
   "cell_type": "code",
   "execution_count": 11,
   "metadata": {},
   "outputs": [
    {
     "name": "stdout",
     "output_type": "stream",
     "text": [
      "please enter value for key no 0 :1234567890\n",
      "please enter value for key no 1 :23\n",
      "please enter value for key no 2 :2\n",
      "please enter value for key no 3 :234\n",
      "please enter value for key no 4 :1234\n",
      "please enter value for key no 5 :1236\n",
      "please enter value for key no 6 :677\n",
      "please enter value for key no 7 :78\n",
      "please enter value for key no 8 :89\n",
      "please enter value for key no 9 :67\n",
      "{'key no 0': '1234567890', 'key no 1': '23', 'key no 2': '2', 'key no 3': '234', 'key no 4': '1234', 'key no 5': '1236', 'key no 6': '677', 'key no 7': '78', 'key no 8': '89', 'key no 9': '67'}\n"
     ]
    }
   ],
   "source": [
    "# Extras: Restricting the value entry in a dictionary\n",
    "# Challenge: Find the bug with this code and post in comments\n",
    "\n",
    "dict1={}\n",
    "key='key no '\n",
    "i=0\n",
    "while i<10:\n",
    "    try:\n",
    "        value=input('please enter value for '+key+str(i)+' :')\n",
    "        if len(value)<=10 and value.isnumeric()==True:\n",
    "            dict1[key+str(i)]=value\n",
    "            i+=1\n",
    "    except:\n",
    "        print('wrong value try again')\n",
    "        i-=1\n",
    "print(dict1)"
   ]
  },
  {
   "cell_type": "code",
   "execution_count": 12,
   "metadata": {},
   "outputs": [
    {
     "name": "stdout",
     "output_type": "stream",
     "text": [
      "13\n"
     ]
    }
   ],
   "source": [
    "# Extras: function to print the nth value of fibonacci series\n",
    "def Fibonacci(n):\n",
    "    if n<0:\n",
    "        print(\"Incorrect input\")\n",
    "    elif n==1:\n",
    "        return 0\n",
    "    elif n==2:\n",
    "        return 1\n",
    "    else:\n",
    "        return Fibonacci(n-1)+Fibonacci(n-2) \n",
    "\n",
    "print(Fibonacci(8))"
   ]
  }
 ],
 "metadata": {
  "kernelspec": {
   "display_name": "Python 3",
   "language": "python",
   "name": "python3"
  },
  "language_info": {
   "codemirror_mode": {
    "name": "ipython",
    "version": 3
   },
   "file_extension": ".py",
   "mimetype": "text/x-python",
   "name": "python",
   "nbconvert_exporter": "python",
   "pygments_lexer": "ipython3",
   "version": "3.7.4"
  }
 },
 "nbformat": 4,
 "nbformat_minor": 2
}
