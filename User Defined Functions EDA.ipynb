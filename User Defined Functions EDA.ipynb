{
 "cells": [
  {
   "cell_type": "markdown",
   "metadata": {},
   "source": [
    "# Python - User Defined Functions"
   ]
  },
  {
   "cell_type": "markdown",
   "metadata": {},
   "source": [
    "Python has several functions that are built-in. These functions perform a predefined task and may, as per requirement, be called upon in any program. However, you can specify one if you don't find an acceptable built-in function to suit your purpose. Below is a sample syntax of how to define your own functions\n",
    "\n",
    "**Advantages of user-defined functions**\n",
    "- User-defined functions help to decompose a large program into small segments which makes program easy to understand, maintain and debug.\n",
    "- If repeated code occurs in a program. Function can be used to include those codes and execute when needed by calling that function.\n",
    "- Programmars working on large project can divide the workload by making different functions."
   ]
  },
  {
   "cell_type": "code",
   "execution_count": 8,
   "metadata": {},
   "outputs": [],
   "source": [
    "def function_name (parameter_one, parameter_two, parameter_n):\n",
    "  # logic here\n",
    "  return"
   ]
  },
  {
   "cell_type": "markdown",
   "metadata": {},
   "source": [
    "# Functions for Handling Missing Values"
   ]
  },
  {
   "cell_type": "markdown",
   "metadata": {},
   "source": [
    "#### Total & percentage of missing data in each column"
   ]
  },
  {
   "cell_type": "code",
   "execution_count": 1,
   "metadata": {},
   "outputs": [],
   "source": [
    "def intitial_eda_checks(df):\n",
    "    '''\n",
    "    Takes df\n",
    "    Checks nulls\n",
    "    '''\n",
    "    if df.isnull().sum().sum() > 0:\n",
    "        mask_total = df.isnull().sum().sort_values(ascending=False) \n",
    "        total = mask_total[mask_total > 0]\n",
    "\n",
    "        mask_percent = df.isnull().mean().sort_values(ascending=False) \n",
    "        percent = mask_percent[mask_percent > 0] \n",
    "\n",
    "        missing_data = pd.concat([total, percent], axis=1, keys=['Total', 'Percent'])\n",
    "    \n",
    "        print(f'Total and Percentage of NaN:\\n {missing_data}')\n",
    "    else: \n",
    "        print('No NaN found.')"
   ]
  },
  {
   "cell_type": "markdown",
   "metadata": {},
   "source": [
    "#### List of columns that have missing values beyond a threshold"
   ]
  },
  {
   "cell_type": "code",
   "execution_count": 2,
   "metadata": {},
   "outputs": [],
   "source": [
    "def view_columns_w_many_nans(df, missing_percent):\n",
    "    '''\n",
    "    Checks which columns have over specified percentage of missing values\n",
    "    Takes df, missing percentage\n",
    "    Returns columns as a list\n",
    "    '''\n",
    "    mask_percent = df.isnull().mean()\n",
    "    series = mask_percent[mask_percent > missing_percent]\n",
    "    columns = series.index.to_list()\n",
    "    print(columns) \n",
    "    return columns"
   ]
  },
  {
   "cell_type": "markdown",
   "metadata": {},
   "source": [
    "#### Drop columns w/ missing values beyond threshold"
   ]
  },
  {
   "cell_type": "code",
   "execution_count": 4,
   "metadata": {},
   "outputs": [],
   "source": [
    "def drop_columns_w_many_nans(df, missing_percent):\n",
    "    '''\n",
    "    Takes df, missing percentage\n",
    "    Drops the columns whose missing value is bigger than missing percentage\n",
    "    Returns df\n",
    "    '''\n",
    "    series = view_columns_w_many_nans(df, missing_percent=missing_percent)\n",
    "    list_of_cols = series.index.to_list()\n",
    "    df.drop(columns=list_of_cols)\n",
    "    print(list_of_cols)\n",
    "    return df"
   ]
  },
  {
   "cell_type": "markdown",
   "metadata": {},
   "source": [
    "Missing values can be handled by \n",
    "- [Simple Imputer](https://scikit-learn.org/stable/modules/generated/sklearn.impute.SimpleImputer.html#sklearn.impute.SimpleImputer)\n",
    "- [Iterative Imputer](https://scikit-learn.org/stable/modules/generated/sklearn.impute.IterativeImputer.html#sklearn.impute.IterativeImputer)\n",
    "- [KNNImputer](https://scikit-learn.org/stable/modules/generated/sklearn.impute.KNNImputer.html#sklearn.impute.KNNImputer)"
   ]
  },
  {
   "cell_type": "markdown",
   "metadata": {},
   "source": [
    "# Changing Data Types"
   ]
  },
  {
   "cell_type": "code",
   "execution_count": 9,
   "metadata": {},
   "outputs": [],
   "source": [
    "def categorical_to_ordinal_transformer(categories):\n",
    "    '''\n",
    "    Returns a function that will map categories to ordinal values based on the\n",
    "    order of the list of `categories` given. Ex.\n",
    "\n",
    "    If categories is ['A', 'B', 'C'] then the transformer will map \n",
    "    'A' -> 0, 'B' -> 1, 'C' -> 2.\n",
    "    '''\n",
    "    return lambda categorical_value: categories.index(categorical_value)"
   ]
  },
  {
   "cell_type": "markdown",
   "metadata": {},
   "source": [
    "# Data encoding"
   ]
  },
  {
   "cell_type": "code",
   "execution_count": null,
   "metadata": {},
   "outputs": [],
   "source": [
    "def simple_preprocessing(dataframe, train=True):\n",
    "    le = LabelEncoder()\n",
    "    X = dataframe.drop(['PassengerId', 'Cabin', 'Name', 'Ticket'], axis=1)\n",
    "    X['Age'] = X['Age'].fillna(value=X['Age'].mode()[0])\n",
    "    X['Embarked'] = le.fit_transform(X['Embarked'].fillna(value=X['Embarked'].mode()[0]))\n",
    "    X['Sex'] = np.where(X['Sex'] == 'male', 1, 0)\n",
    "    \n",
    "    if train:\n",
    "        X = X.drop(['Survived'], axis=1)\n",
    "        y = np.where(dataframe['Survived'] == 1, 'Alive', 'Dead')\n",
    "        y = pd.get_dummies(y, columns=['Survived'])\n",
    "        return X, y\n",
    "    else:\n",
    "        return X"
   ]
  },
  {
   "cell_type": "markdown",
   "metadata": {},
   "source": [
    "# Function for Visualizations"
   ]
  },
  {
   "cell_type": "markdown",
   "metadata": {},
   "source": [
    "#### Summary of Categorical data\n",
    "\n",
    "- Count, mean, std, min, max, and quartiles for numerical data or the count for non-numerical data, special, top class, and top class frequency. \n",
    "- Class frequencies of the column in question if the verbose value is set to True \n",
    "- Bar graph of the number of each class in the column concerned"
   ]
  },
  {
   "cell_type": "code",
   "execution_count": 20,
   "metadata": {},
   "outputs": [],
   "source": [
    "import seaborn as sns\n",
    "import matplotlib.pyplot as plt\n",
    "import numpy as np\n",
    "\n",
    "def categorical_summarized(dataframe, x=None, y=None, hue=None, palette='Set1', verbose=True):\n",
    "    '''\n",
    "    Helper function that gives a quick summary of a given column of categorical data\n",
    "    Arguments\n",
    "    =========\n",
    "    dataframe: pandas dataframe\n",
    "    x: str. horizontal axis to plot the labels of categorical data, y would be the count\n",
    "    y: str. vertical axis to plot the labels of categorical data, x would be the count\n",
    "    hue: str. if you want to compare it another variable (usually the target variable)\n",
    "    palette: array-like. Colour of the plot\n",
    "    Returns\n",
    "    =======\n",
    "    Quick Stats of the data and also the count plot\n",
    "    '''\n",
    "    if x == None:\n",
    "        column_interested = y\n",
    "    else:\n",
    "        column_interested = x\n",
    "    series = dataframe[column_interested]\n",
    "    print(series.describe())\n",
    "    print('mode: ', series.mode())\n",
    "    if verbose:\n",
    "        print('='*80)\n",
    "        print(series.value_counts())\n",
    "\n",
    "    sns.countplot(x=x, y=y, hue=hue, data=dataframe, palette=palette)\n",
    "    plt.show()"
   ]
  },
  {
   "cell_type": "markdown",
   "metadata": {},
   "source": [
    "#### Quantitative Summary with box plot\n",
    "- A modification of above function"
   ]
  },
  {
   "cell_type": "code",
   "execution_count": 2,
   "metadata": {},
   "outputs": [],
   "source": [
    "def quantitative_summarized(dataframe, x=None, y=None, hue=None, palette='Set1', ax=None, verbose=True, swarm=False):\n",
    "    '''\n",
    "    Helper function that gives a quick summary of quantattive data\n",
    "    Arguments\n",
    "    =========\n",
    "    dataframe: pandas dataframe\n",
    "    x: str. horizontal axis to plot the labels of categorical data (usually the target variable)\n",
    "    y: str. vertical axis to plot the quantitative data\n",
    "    hue: str. if you want to compare it another categorical variable (usually the target variable if x is another variable)\n",
    "    palette: array-like. Colour of the plot\n",
    "    swarm: if swarm is set to True, a swarm plot would be overlayed\n",
    "    Returns\n",
    "    =======\n",
    "    Quick Stats of the data and also the box plot of the distribution\n",
    "    '''\n",
    "    series = dataframe[y]\n",
    "    print(series.describe())\n",
    "    print('mode: ', series.mode())\n",
    "    if verbose:\n",
    "        print('='*80)\n",
    "        print(series.value_counts())\n",
    "\n",
    "    sns.boxplot(x=x, y=y, hue=hue, data=dataframe, palette=palette, ax=ax)\n",
    "\n",
    "    if swarm:\n",
    "        sns.swarmplot(x=x, y=y, hue=hue, data=dataframe,\n",
    "                      palette=palette, ax=ax)\n",
    "\n",
    "    plt.show()"
   ]
  },
  {
   "cell_type": "markdown",
   "metadata": {},
   "source": [
    "#### Correlation Analysis"
   ]
  },
  {
   "cell_type": "code",
   "execution_count": 5,
   "metadata": {},
   "outputs": [],
   "source": [
    "def heatmap_numeric_w_dependent_variable(df, dependent_variable):\n",
    "    '''\n",
    "    Takes df, a dependant variable as str\n",
    "    Returns a heatmap of all independent variables' correlations with dependent variable \n",
    "    '''\n",
    "    plt.figure(figsize=(8, 10))\n",
    "    g = sns.heatmap(df.corr()[[dependent_variable]].sort_values(by=dependent_variable), \n",
    "                    annot=True, \n",
    "                    cmap='coolwarm', \n",
    "                    vmin=-1,\n",
    "                    vmax=1) \n",
    "    return g"
   ]
  },
  {
   "cell_type": "markdown",
   "metadata": {},
   "source": [
    "#### Histogram / distribution"
   ]
  },
  {
   "cell_type": "code",
   "execution_count": 7,
   "metadata": {},
   "outputs": [],
   "source": [
    "def histograms_numeric_columns(df, numerical_columns):\n",
    "    '''\n",
    "    Takes df, numerical columns as list\n",
    "    Returns a group of histagrams\n",
    "    '''\n",
    "    f = pd.melt(df, value_vars=numerical_columns) \n",
    "    g = sns.FacetGrid(f, col='variable',  col_wrap=4, sharex=False, sharey=False)\n",
    "    g = g.map(sns.distplot, 'value')\n",
    "    return g"
   ]
  },
  {
   "cell_type": "code",
   "execution_count": 29,
   "metadata": {},
   "outputs": [],
   "source": [
    "def histogram_modified():\n",
    "\n",
    "    bins = np.arange(-60, 60, 2.5)\n",
    "    \n",
    "    fig = plt.figure(figsize=(8,6))\n",
    "    ax = plt.subplot(111) \n",
    "    \n",
    "    # plot histograms\n",
    "    plt.hist(data1, bins=bins, \n",
    "             alpha=0.3,        # transparency\n",
    "             label='class 1')\n",
    "    plt.hist(data2, bins=bins, \n",
    "             alpha=0.3,        # transparency\n",
    "             label='class 2')\n",
    "    \n",
    "    # axis formatting\n",
    "    plt.ylim([0, 110])\n",
    "    plt.xlim([min(data1+data2)-5, max(data1+data2)+5])\n",
    "\n",
    "    # hiding axis ticks\n",
    "    plt.tick_params(axis=\"both\", which=\"both\", bottom=\"off\", top=\"off\",  \n",
    "            labelbottom=\"on\", left=\"off\", right=\"off\", labelleft=\"on\")\n",
    "\n",
    "    # adding horizontal grid lines \n",
    "    ax.yaxis.grid(True) \n",
    "    \n",
    "    # remove axis spines\n",
    "    ax.spines[\"top\"].set_visible(False)  \n",
    "    ax.spines[\"right\"].set_visible(False) \n",
    "    ax.spines[\"bottom\"].set_visible(False) \n",
    "    ax.spines[\"left\"].set_visible(False)    \n",
    "    \n",
    "    # labels    \n",
    "    plt.xlabel('variable X')\n",
    "    plt.ylabel('count')\n",
    "    plt.legend(loc='upper right', fancybox=True)\n",
    "\n",
    "    # raised title\n",
    "    plt.text(15, 120, 'Modified',\n",
    "         horizontalalignment='center',\n",
    "         fontsize=18)    \n",
    "    \n",
    "    plt.show()"
   ]
  },
  {
   "cell_type": "code",
   "execution_count": 39,
   "metadata": {},
   "outputs": [
    {
     "data": {
      "image/png": "[encoded data removed]",
      "text/plain": [
       "<Figure size 576x432 with 1 Axes>"
      ]
     },
     "metadata": {
      "needs_background": "light"
     },
     "output_type": "display_data"
    }
   ],
   "source": [
    "import random\n",
    "data1 = [random.gauss(15,10) for i in range(500)]  \n",
    "data2 = [random.gauss(5,5) for i in range(500)]  \n",
    "histogram_modified()"
   ]
  },
  {
   "cell_type": "markdown",
   "metadata": {},
   "source": [
    "#### Default Errorbar Plot"
   ]
  },
  {
   "cell_type": "code",
   "execution_count": 25,
   "metadata": {},
   "outputs": [],
   "source": [
    "data = [np.random.normal(0, std, 100) for std in range(1, 4)]"
   ]
  },
  {
   "cell_type": "code",
   "execution_count": 13,
   "metadata": {},
   "outputs": [],
   "source": [
    "def errorbar_default():\n",
    "\n",
    "    # Data\n",
    "    data = [1, 1.5, 1.2]\n",
    "    std_devs = [0.15, 0.25, 0.12]\n",
    "\n",
    "    # X axis positions\n",
    "    x_pos = range(len(data))\n",
    "\n",
    "    for d, std, x in zip(data, std_devs, x_pos):\n",
    "        plt.errorbar(x=x, y=d, yerr=std, fmt='o')\n",
    "\n",
    "    # setting axis limits   \n",
    "    plt.xlim([min(x_pos)-1, max(x_pos)+1])    \n",
    "    plt.ylim([min(data)*0.7, max(data)*1.3])  \n",
    "\n",
    "    # setting labels and titles   \n",
    "    plt.ylabel('x label')\n",
    "    plt.title('Matplotlib default')\n",
    "\n",
    "    plt.legend(['X1', 'X2', 'X3'], loc='upper right')\n",
    "\n",
    "    plt.show()"
   ]
  },
  {
   "cell_type": "code",
   "execution_count": 14,
   "metadata": {},
   "outputs": [],
   "source": [
    "# modified errobar plot\n",
    "def errorbar_modified():\n",
    "\n",
    "    # Data\n",
    "    data = [1, 1.5, 1.2]\n",
    "    std_devs = [0.15, 0.25, 0.12]\n",
    "\n",
    "    # X axis positions\n",
    "    x_pos = range(len(data))\n",
    "\n",
    "    colors = ['lightblue', 'pink', 'lightgreen']\n",
    "\n",
    "    fig = plt.gca()\n",
    "    ax = plt.subplot(111)  \n",
    "\n",
    "    # draw plots\n",
    "    for d, std, col, x in zip(data, std_devs, colors, x_pos):\n",
    "        plt.errorbar(x=x, y=d, yerr=std, fmt='o', color=col, ecolor='black')\n",
    "    \n",
    "    # setting axis limits    \n",
    "    plt.xlim([min(x_pos)-1, max(x_pos)+1])    \n",
    "    plt.ylim([min(data)*0.7, max(data)*1.3])  \n",
    "    \n",
    "    # setting labels and titles    \n",
    "    plt.ylabel('x label')\n",
    "    plt.text(1, 2, 'Modified',\n",
    "         horizontalalignment='center',\n",
    "         fontsize=14)\n",
    "\n",
    "    # remove axis spines\n",
    "    ax.spines[\"top\"].set_visible(False)  \n",
    "    ax.spines[\"right\"].set_visible(False) \n",
    "    ax.spines[\"bottom\"].set_visible(False) \n",
    "    ax.spines[\"left\"].set_visible(False)\n",
    "\n",
    "    # hiding axis ticks\n",
    "    plt.tick_params(axis=\"both\", which=\"both\", bottom=\"off\", top=\"off\",  \n",
    "                labelbottom=\"off\", left=\"off\", right=\"off\", labelleft=\"on\")\n",
    "\n",
    "    # adding horizontal grid lines \n",
    "    ax.yaxis.grid(True)\n",
    "\n",
    "    plt.legend(['X1', 'X2', 'X3'], loc='upper right', fancybox=True, numpoints=1)\n",
    "    \n",
    "    plt.tight_layout()\n",
    "    plt.show()"
   ]
  },
  {
   "cell_type": "code",
   "execution_count": 15,
   "metadata": {},
   "outputs": [
    {
     "data": {
      "image/png": "[encoded data removed]",
      "text/plain": [
       "<Figure size 432x288 with 1 Axes>"
      ]
     },
     "metadata": {
      "needs_background": "light"
     },
     "output_type": "display_data"
    }
   ],
   "source": [
    "errorbar_default()"
   ]
  },
  {
   "cell_type": "code",
   "execution_count": 16,
   "metadata": {},
   "outputs": [
    {
     "name": "stderr",
     "output_type": "stream",
     "text": [
      "<ipython-input-14-f2dd4430cd09>:14: MatplotlibDeprecationWarning: Adding an axes using the same arguments as a previous axes currently reuses the earlier instance.  In a future version, a new instance will always be created and returned.  Meanwhile, this warning can be suppressed, and the future behavior ensured, by passing a unique label to each axes instance.\n",
      "  ax = plt.subplot(111)\n"
     ]
    },
    {
     "data": {
      "image/png": "[encoded data removed]",
      "text/plain": [
       "<Figure size 432x288 with 1 Axes>"
      ]
     },
     "metadata": {
      "needs_background": "light"
     },
     "output_type": "display_data"
    }
   ],
   "source": [
    "errorbar_modified()"
   ]
  },
  {
   "cell_type": "markdown",
   "metadata": {},
   "source": [
    "#### Box Plot"
   ]
  },
  {
   "cell_type": "code",
   "execution_count": 17,
   "metadata": {},
   "outputs": [],
   "source": [
    "def boxplot_default():\n",
    "\n",
    "    fig = plt.figure(figsize=(8,6))\n",
    "\n",
    "    plt.boxplot(data, \n",
    "            notch=False, # box instead of notch shape \n",
    "            sym='rs',    # red squares for outliers\n",
    "            vert=True)   # vertical box aligmnent\n",
    "\n",
    "    plt.xticks([y+1 for y in range(len(data))], ['x1', 'x2', 'x3'])\n",
    "    plt.title('Matplotlib default')\n",
    "    plt.show()"
   ]
  },
  {
   "cell_type": "code",
   "execution_count": 18,
   "metadata": {},
   "outputs": [],
   "source": [
    "def boxplot_modified():\n",
    "    \n",
    "    fig = plt.figure(figsize=(8,6))\n",
    "    ax = plt.subplot(111) \n",
    "\n",
    "    bplot = plt.boxplot(data, \n",
    "            notch=True,          # notch shape \n",
    "            vert=True,           # vertical box aligmnent\n",
    "            sym='ko',            # red circle for outliers\n",
    "            patch_artist=True,   # fill with color\n",
    "            )   \n",
    "\n",
    "    # choosing custom colors to fill the boxes\n",
    "    colors = ['pink', 'lightblue', 'lightgreen']\n",
    "    for patch, color in zip(bplot['boxes'], colors):\n",
    "        patch.set_facecolor(color)\n",
    "\n",
    "    # modifying the whiskers: straight lines, black, wider\n",
    "    for whisker in bplot['whiskers']:\n",
    "        whisker.set(color='black', linewidth=1.2, linestyle='-')    \n",
    "    \n",
    "    # making the caps a little bit wider \n",
    "    for cap in bplot['caps']:\n",
    "        cap.set(linewidth=1.2)\n",
    "    \n",
    "    # hiding axis ticks\n",
    "    plt.tick_params(axis=\"both\", which=\"both\", bottom=\"off\", top=\"off\",  \n",
    "            labelbottom=\"on\", left=\"off\", right=\"off\", labelleft=\"on\")\n",
    "\n",
    "    # adding horizontal grid lines \n",
    "    ax.yaxis.grid(True) \n",
    "    \n",
    "    # remove axis spines\n",
    "    ax.spines[\"top\"].set_visible(False)  \n",
    "    ax.spines[\"right\"].set_visible(False) \n",
    "    ax.spines[\"bottom\"].set_visible(False) \n",
    "    ax.spines[\"left\"].set_visible(False)\n",
    "\n",
    "    plt.xticks([y+1 for y in range(len(data))], ['x1', 'x2', 'x3'])\n",
    "\n",
    "    # raised title\n",
    "    plt.text(2, 9, 'Modified',\n",
    "         horizontalalignment='center',\n",
    "         fontsize=18)\n",
    "\n",
    "    plt.tight_layout()\n",
    "    plt.show()"
   ]
  },
  {
   "cell_type": "code",
   "execution_count": 26,
   "metadata": {},
   "outputs": [
    {
     "data": {
      "image/png": "[encoded data removed]",
      "text/plain": [
       "<Figure size 576x432 with 1 Axes>"
      ]
     },
     "metadata": {
      "needs_background": "light"
     },
     "output_type": "display_data"
    }
   ],
   "source": [
    "boxplot_modified()"
   ]
  },
  {
   "cell_type": "code",
   "execution_count": 27,
   "metadata": {},
   "outputs": [],
   "source": [
    "def barplot_default():   \n",
    "\n",
    "    # input data\n",
    "    mean_values = [1, 2, 3]\n",
    "    variance = [0.2, 0.4, 0.5]\n",
    "    bar_labels = ['bar 1', 'bar 2', 'bar 3']\n",
    "\n",
    "    fig = plt.figure(figsize=(6,4))\n",
    "\n",
    "    # plot bars\n",
    "    x_pos = list(range(len(bar_labels)))\n",
    "    plt.bar(x_pos, mean_values, yerr=variance, align='center')\n",
    "\n",
    "\n",
    "    # set axes labels and title\n",
    "    plt.ylabel('variable y')\n",
    "    plt.xticks(x_pos, bar_labels)\n",
    "    plt.title('Matplotlib default')\n",
    "\n",
    "    plt.show()"
   ]
  },
  {
   "cell_type": "markdown",
   "metadata": {},
   "source": [
    "#### Bar Plot"
   ]
  },
  {
   "cell_type": "code",
   "execution_count": 28,
   "metadata": {},
   "outputs": [],
   "source": [
    "def barplot_modified():\n",
    "\n",
    "    # input data\n",
    "    mean_values = [1, 2, 3]\n",
    "    variance = [0.2, 0.4, 0.5]\n",
    "    bar_labels = ['bar 1', 'bar 2', 'bar 3']\n",
    "\n",
    "    fig = plt.figure(figsize=(6,4))\n",
    "    ax = plt.subplot(111) \n",
    "    \n",
    "    # plot bars\n",
    "    x_pos = list(range(len(bar_labels)))\n",
    "    plt.bar(x_pos, mean_values, yerr=variance, \n",
    "            ecolor='black', # black error bar color\n",
    "            alpha=0.5,      # transparency\n",
    "            width=0.5,      # smaller bar width\n",
    "            align='center')\n",
    "\n",
    "    # set height of the y-axis\n",
    "    max_y = max(zip(mean_values, variance)) # returns a tuple, here: (3, 5)\n",
    "    plt.ylim([0, (max_y[0] + max_y[1]) * 1.1])\n",
    "\n",
    "    # hiding axis ticks\n",
    "    plt.tick_params(axis=\"both\", which=\"both\", bottom=\"off\", top=\"off\",  \n",
    "            labelbottom=\"on\", left=\"off\", right=\"off\", labelleft=\"on\")\n",
    "\n",
    "    # adding horizontal grid lines \n",
    "    ax.yaxis.grid(True) \n",
    "    \n",
    "    # remove axis spines\n",
    "    ax.spines[\"top\"].set_visible(False)  \n",
    "    ax.spines[\"right\"].set_visible(False) \n",
    "    ax.spines[\"bottom\"].set_visible(False) \n",
    "    ax.spines[\"left\"].set_visible(False)\n",
    "\n",
    "    # set axes labels and title\n",
    "    plt.ylabel('variable y')\n",
    "    plt.xticks(x_pos, bar_labels)\n",
    "    \n",
    "    plt.text(1, 4, 'Modified',\n",
    "         horizontalalignment='center',\n",
    "         fontsize=18)\n",
    "\n",
    "    \n",
    "    \n",
    "    plt.tight_layout()\n",
    "    plt.show()"
   ]
  },
  {
   "cell_type": "code",
   "execution_count": 35,
   "metadata": {},
   "outputs": [
    {
     "data": {
      "image/png": "[encoded data removed]",
      "text/plain": [
       "<Figure size 432x288 with 1 Axes>"
      ]
     },
     "metadata": {
      "needs_background": "light"
     },
     "output_type": "display_data"
    }
   ],
   "source": [
    "barplot_modified()"
   ]
  },
  {
   "cell_type": "markdown",
   "metadata": {},
   "source": [
    "#### Pie Chart"
   ]
  },
  {
   "cell_type": "code",
   "execution_count": 30,
   "metadata": {},
   "outputs": [],
   "source": [
    "def piechart_modified():\n",
    "\n",
    "    plt.pie(\n",
    "        (10,5),\n",
    "        labels=('spam','ham'),\n",
    "        shadow=True,\n",
    "        colors=('lightskyblue', 'yellowgreen'),\n",
    "        explode=(0,0.15), # space between slices \n",
    "        startangle=90,    # rotate conter-clockwise by 90 degrees\n",
    "        autopct='%1.1f%%',# display fraction as percentage\n",
    "        )\n",
    "    plt.legend(fancybox=True)\n",
    "    plt.axis('equal')     # plot pyplot as circle\n",
    "    plt.tight_layout()\n",
    "    plt.title('Modified')\n",
    "    plt.show()"
   ]
  },
  {
   "cell_type": "code",
   "execution_count": 32,
   "metadata": {},
   "outputs": [
    {
     "data": {
      "image/png": "[encoded data removed]",
      "text/plain": [
       "<Figure size 432x288 with 1 Axes>"
      ]
     },
     "metadata": {},
     "output_type": "display_data"
    }
   ],
   "source": [
    "piechart_modified()"
   ]
  },
  {
   "cell_type": "markdown",
   "metadata": {},
   "source": [
    "#### Violin Plot"
   ]
  },
  {
   "cell_type": "code",
   "execution_count": 31,
   "metadata": {},
   "outputs": [],
   "source": [
    "def violin_modified():\n",
    "    \n",
    "    fig = plt.figure(figsize=(8,6))\n",
    "    ax = plt.subplot(111) \n",
    "\n",
    "    vplot = plt.violinplot(data,\n",
    "               showmeans=False,\n",
    "               showmedians=True,\n",
    "               showextrema=False\n",
    "               )\n",
    "\n",
    "    # choosing custom colors to fill the boxes\n",
    "    colors = ['red', 'blue', 'green']\n",
    "    for patch, color in zip(vplot['bodies'], colors):\n",
    "        patch.set_facecolor(color)\n",
    "\n",
    "\n",
    "    # hiding axis ticks\n",
    "    plt.tick_params(axis=\"both\", which=\"both\", bottom=\"off\", top=\"off\",  \n",
    "            labelbottom=\"on\", left=\"off\", right=\"off\", labelleft=\"on\")\n",
    "\n",
    "    # adding horizontal grid lines \n",
    "    ax.yaxis.grid(True) \n",
    "    \n",
    "    # remove axis spines\n",
    "    ax.spines[\"top\"].set_visible(False)  \n",
    "    ax.spines[\"right\"].set_visible(False) \n",
    "    ax.spines[\"bottom\"].set_visible(False) \n",
    "    ax.spines[\"left\"].set_visible(False)\n",
    "\n",
    "    plt.xticks([y+1 for y in range(len(data))], ['x1', 'x2', 'x3'])\n",
    "\n",
    "    # raised title\n",
    "    plt.text(2, 9, 'Modified',\n",
    "         horizontalalignment='center',\n",
    "         fontsize=18)\n",
    "\n",
    "    plt.tight_layout()\n",
    "    plt.show()"
   ]
  },
  {
   "cell_type": "code",
   "execution_count": 33,
   "metadata": {},
   "outputs": [
    {
     "data": {
      "image/png": "[encoded data removed]",
      "text/plain": [
       "<Figure size 576x432 with 1 Axes>"
      ]
     },
     "metadata": {
      "needs_background": "light"
     },
     "output_type": "display_data"
    }
   ],
   "source": [
    "violin_modified()"
   ]
  },
  {
   "cell_type": "markdown",
   "metadata": {},
   "source": [
    "For more functions/references check below links\n",
    "\n",
    "- [Python UDF](https://github.com/Rajesh-ML-Engg/Deep_Dive_in_ML_Python/blob/master/Blog-6/Blog_6.ipynb)\n",
    "- [EDA](https://github.com/FredaXin/blog_posts/blob/master/creating_functions_for_EDA.md)"
   ]
  },
  {
   "cell_type": "code",
   "execution_count": null,
   "metadata": {},
   "outputs": [],
   "source": []
  }
 ],
 "metadata": {
  "kernelspec": {
   "display_name": "Python 3",
   "language": "python",
   "name": "python3"
  },
  "language_info": {
   "codemirror_mode": {
    "name": "ipython",
    "version": 3
   },
   "file_extension": ".py",
   "mimetype": "text/x-python",
   "name": "python",
   "nbconvert_exporter": "python",
   "pygments_lexer": "ipython3",
   "version": "3.8.6"
  }
 },
 "nbformat": 4,
 "nbformat_minor": 4
}
