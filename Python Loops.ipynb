{
 "cells": [
  {
   "cell_type": "markdown",
   "metadata": {},
   "source": [
    "# Python Loops\n",
    "\n",
    "### While Loop\n",
    " - While loop is used to execute a set of statements repeatedly until a given a condition is satisfied. When the condition becomes false, the code immediately after the loop is executed"
   ]
  },
  {
   "cell_type": "code",
   "execution_count": 1,
   "metadata": {},
   "outputs": [],
   "source": [
    "# Simple program to illustrate while loop\n",
    "\n",
    "i = 0\n",
    "while (i < 4):     \n",
    "    i = i + 1\n",
    "    print(\"Good Luck Learning Python Loops!\")"
   ]
  },
  {
   "cell_type": "code",
   "execution_count": 2,
   "metadata": {},
   "outputs": [],
   "source": [
    "# Print i as long as i is less than 5:\n",
    "\n",
    "i = 1\n",
    "while i < 5:\n",
    "    print(i)\n",
    "    i += 1"
   ]
  },
  {
   "cell_type": "markdown",
   "metadata": {},
   "source": [
    "### While + Break\n",
    " - Including break statement in while loop can stop the loop even if the while condition is true"
   ]
  },
  {
   "cell_type": "code",
   "execution_count": 3,
   "metadata": {},
   "outputs": [],
   "source": [
    "# Exit the loop when i is 4:\n",
    "\n",
    "i = 1\n",
    "while i < 5:\n",
    "    print(i)\n",
    "    if i == 4:\n",
    "        break\n",
    "        #i += 1, try this code by removing the # to learn the importance of break statement\n",
    "        # and falling into a trap of never ending loop \n",
    "    i += 1"
   ]
  },
  {
   "cell_type": "markdown",
   "metadata": {},
   "source": [
    "### While + Continue\n",
    "- Including continue statement with while loop can stop the current iteration and continue with the next"
   ]
  },
  {
   "cell_type": "code",
   "execution_count": 4,
   "metadata": {},
   "outputs": [
    {
     "name": "stdout",
     "output_type": "stream",
     "text": [
      "2\n",
      "3\n",
      "5\n"
     ]
    }
   ],
   "source": [
    "# Continue to the next iteration if i is 4:\n",
    "i = 1\n",
    "while i < 5:\n",
    "    i += 1\n",
    "    if i == 4:\n",
    "        continue\n",
    "    print(i)"
   ]
  },
  {
   "cell_type": "markdown",
   "metadata": {},
   "source": [
    "### While + Else\n",
    "- The else clause is executed only when your while condition becomes false."
   ]
  },
  {
   "cell_type": "code",
   "execution_count": 5,
   "metadata": {},
   "outputs": [
    {
     "name": "stdout",
     "output_type": "stream",
     "text": [
      "Good Luck Learning Python Loops!\n",
      "Good Luck Learning Python Loops!\n",
      "Good Luck Learning Python Loops!\n",
      "Good Luck Learning Python Loops!\n",
      "Good Luck Learning Python Loops!\n",
      "Keep it up!\n"
     ]
    }
   ],
   "source": [
    "i = 0\n",
    "while (i < 5):     \n",
    "    i = i + 1\n",
    "    print(\"Good Luck Learning Python Loops!\") \n",
    "else: \n",
    "    print(\"Keep it up!\")"
   ]
  },
  {
   "cell_type": "code",
   "execution_count": 6,
   "metadata": {},
   "outputs": [
    {
     "name": "stdout",
     "output_type": "stream",
     "text": [
      "1\n",
      "2\n",
      "3\n",
      "4\n",
      "i is not less than 5\n"
     ]
    }
   ],
   "source": [
    "# Print a message once the condition is false:\n",
    "i = 1\n",
    "while i < 5:\n",
    "    print(i)\n",
    "    i += 1\n",
    "else:\n",
    "    print(\"i is not less than 5\")"
   ]
  },
  {
   "cell_type": "markdown",
   "metadata": {},
   "source": [
    "### For\n",
    "- For loop is used for iterating over a sequence (i.e. either a list, a tuple, a dictionary, a set, or a string).With for loop we can execute a set of statements, once for each item in a list, tuple, set etc.\n",
    "- For loop does not require an indexing variable to set beforehand"
   ]
  },
  {
   "cell_type": "code",
   "execution_count": 7,
   "metadata": {},
   "outputs": [
    {
     "name": "stdout",
     "output_type": "stream",
     "text": [
      "List Iteration:\n",
      "1. Good\n",
      "2. Better\n",
      "3. Best\n"
     ]
    }
   ],
   "source": [
    "# List Iteration\n",
    "print(\"List Iteration:\") \n",
    "a = [\"1. Good\", \"2. Better\", \"3. Best\"] \n",
    "for i in a: \n",
    "    print(i)"
   ]
  },
  {
   "cell_type": "code",
   "execution_count": 8,
   "metadata": {},
   "outputs": [
    {
     "name": "stdout",
     "output_type": "stream",
     "text": [
      "Tuple Iteration:\n",
      "1. Good\n",
      "2. Better\n",
      "3. Best\n"
     ]
    }
   ],
   "source": [
    "# Tuple Iteration\n",
    "print(\"Tuple Iteration:\") \n",
    "a = (\"1. Good\", \"2. Better\", \"3. Best\")\n",
    "for i in a:\n",
    "    print(i)"
   ]
  },
  {
   "cell_type": "code",
   "execution_count": 9,
   "metadata": {},
   "outputs": [
    {
     "name": "stdout",
     "output_type": "stream",
     "text": [
      "String Iteration:\n",
      "G\n",
      "o\n",
      "o\n",
      "d\n"
     ]
    }
   ],
   "source": [
    "# String Iteration\n",
    "print(\"String Iteration:\") \n",
    "a = \"Good\"\n",
    "for i in a:\n",
    "    print(i)"
   ]
  },
  {
   "cell_type": "code",
   "execution_count": 10,
   "metadata": {},
   "outputs": [
    {
     "name": "stdout",
     "output_type": "stream",
     "text": [
      "Dictionary Iteration:\n",
      "Good  1\n",
      "Better  2\n",
      "Best  3\n"
     ]
    }
   ],
   "source": [
    "# Dictionary Iteration\n",
    "print(\"Dictionary Iteration:\")    \n",
    "a = dict()  \n",
    "a['Good'] = 1\n",
    "a['Better'] = 2\n",
    "a['Best'] = 3\n",
    "for i in a : \n",
    "    print(\"%s  %d\" %(i, a[i]))\n",
    "# Refer think link to know more about %s & %d\n",
    "# https://stackoverflow.com/questions/4288973/whats-the-difference-between-s-and-d-in-python-string-formatting"
   ]
  },
  {
   "cell_type": "markdown",
   "metadata": {},
   "source": [
    "### For + Break\n",
    "- Including break statement in for loop can stop the loop before it has looped through all the items"
   ]
  },
  {
   "cell_type": "code",
   "execution_count": 11,
   "metadata": {},
   "outputs": [
    {
     "name": "stdout",
     "output_type": "stream",
     "text": [
      "yellow\n",
      "orange\n"
     ]
    }
   ],
   "source": [
    "# Exit the loop when x is \"orange\"\n",
    "color = [\"yellow\", \"orange\", \"red\"]\n",
    "for x in color:\n",
    "    print(x)\n",
    "    if x == \"orange\":\n",
    "        break"
   ]
  },
  {
   "cell_type": "markdown",
   "metadata": {},
   "source": [
    "### For + Continue\n",
    "- Including continue statement in for loop can stop the current iteration of the loop, and continue with the next"
   ]
  },
  {
   "cell_type": "code",
   "execution_count": 12,
   "metadata": {},
   "outputs": [
    {
     "name": "stdout",
     "output_type": "stream",
     "text": [
      "yellow\n",
      "red\n"
     ]
    }
   ],
   "source": [
    "# Do not print orange\n",
    "color = [\"yellow\", \"orange\", \"red\"]\n",
    "for x in color:\n",
    "    if x == \"orange\":\n",
    "        continue\n",
    "    print(x)"
   ]
  },
  {
   "cell_type": "markdown",
   "metadata": {},
   "source": [
    "### For + Range\n",
    "- range() function can be used in for loop to loop through a set of code a specified number of times\n",
    "- range() function defaults to 0 as a starting value\n",
    "- However it is possible to specify the starting value by adding a parameter\n",
    "- range(1, 5) which means values from 1 to 5 but not including 5\n",
    "- range() function defaults to increment the sequence by 1\n",
    "- However it is possible to specify the increment value by adding a third parameter - Ex: range(2, 20, 2)"
   ]
  },
  {
   "cell_type": "code",
   "execution_count": 13,
   "metadata": {},
   "outputs": [
    {
     "name": "stdout",
     "output_type": "stream",
     "text": [
      "0\n",
      "1\n",
      "2\n",
      "3\n",
      "4\n"
     ]
    }
   ],
   "source": [
    "# print numbers within specified range\n",
    "for x in range(5):\n",
    "    print(x)"
   ]
  },
  {
   "cell_type": "code",
   "execution_count": 14,
   "metadata": {},
   "outputs": [
    {
     "name": "stdout",
     "output_type": "stream",
     "text": [
      "1\n",
      "2\n",
      "3\n",
      "4\n"
     ]
    }
   ],
   "source": [
    "# specify the starting value\n",
    "for x in range(1, 5):\n",
    "    print(x)"
   ]
  },
  {
   "cell_type": "code",
   "execution_count": 15,
   "metadata": {},
   "outputs": [
    {
     "name": "stdout",
     "output_type": "stream",
     "text": [
      "2\n",
      "4\n",
      "6\n",
      "8\n",
      "10\n",
      "12\n",
      "14\n",
      "16\n",
      "18\n"
     ]
    }
   ],
   "source": [
    "# specify the increment value\n",
    "for x in range(2, 20, 2):\n",
    "    print(x)"
   ]
  },
  {
   "cell_type": "markdown",
   "metadata": {},
   "source": [
    "### For + Else\n",
    "- Including else in a for loop specifies a set of code to be executed when the loop is finished"
   ]
  },
  {
   "cell_type": "code",
   "execution_count": 16,
   "metadata": {},
   "outputs": [
    {
     "name": "stdout",
     "output_type": "stream",
     "text": [
      "0\n",
      "1\n",
      "2\n",
      "3\n",
      "4\n",
      "Going good so far\n"
     ]
    }
   ],
   "source": [
    "# Print all numbers from 0 to 4 and print a message when the loop has ended:\n",
    "for x in range(5):\n",
    "    print(x)\n",
    "else:\n",
    "    print(\"Going good so far\")"
   ]
  },
  {
   "cell_type": "markdown",
   "metadata": {},
   "source": [
    "### Nested Loop\n",
    "- A loop inside a loop is called nested loop\n",
    "- The inner loop will be executed one time for each iteration of the outer loop"
   ]
  },
  {
   "cell_type": "code",
   "execution_count": 17,
   "metadata": {},
   "outputs": [
    {
     "name": "stdout",
     "output_type": "stream",
     "text": [
      "red sedan\n",
      "red hatchback\n",
      "red wagon\n",
      "blue sedan\n",
      "blue hatchback\n",
      "blue wagon\n",
      "white sedan\n",
      "white hatchback\n",
      "white wagon\n"
     ]
    }
   ],
   "source": [
    "color = [\"red\", \"blue\", \"white\"]\n",
    "car = [\"sedan\", \"hatchback\", \"wagon\"]\n",
    "\n",
    "for x in color:\n",
    "    for y in car:\n",
    "        print(x, y)"
   ]
  },
  {
   "cell_type": "code",
   "execution_count": 18,
   "metadata": {},
   "outputs": [
    {
     "name": "stdout",
     "output_type": "stream",
     "text": [
      "1 \n",
      "2 2 \n",
      "3 3 3 \n",
      "4 4 4 4 \n"
     ]
    }
   ],
   "source": [
    "# Nested For loop - Printing pattern using a range of numbers\n",
    "for i in range(1, 5): \n",
    "    for j in range(i): \n",
    "         print(i, end=' ') \n",
    "    print()"
   ]
  },
  {
   "cell_type": "code",
   "execution_count": 19,
   "metadata": {},
   "outputs": [
    {
     "name": "stdout",
     "output_type": "stream",
     "text": [
      "* \n",
      "* * \n",
      "* * * \n",
      "* * * * \n",
      "* * * * * \n",
      "* * * * \n",
      "* * * \n",
      "* * \n",
      "* \n"
     ]
    }
   ],
   "source": [
    "# Nested For loop - Printing pattern\n",
    "str1=''\n",
    "for i in range(0,9):\n",
    "    if i<5:\n",
    "        str1 += '* '\n",
    "        print(str1)\n",
    "    elif i>4:\n",
    "        str1 = str1[:-2]\n",
    "        print(str1)"
   ]
  },
  {
   "cell_type": "code",
   "execution_count": 20,
   "metadata": {},
   "outputs": [
    {
     "name": "stdout",
     "output_type": "stream",
     "text": [
      "1 , 5\n",
      "2 , 6\n",
      "3 , 7\n"
     ]
    }
   ],
   "source": [
    "# Nested while loop\n",
    "i = 1\n",
    "j = 5\n",
    "while i < 4:\n",
    "    while j < 8:\n",
    "        print(i, \",\", j)\n",
    "        j = j + 1\n",
    "        i = i + 1"
   ]
  },
  {
   "cell_type": "markdown",
   "metadata": {},
   "source": [
    "#### Extras\n",
    "1. Iterating using index\n",
    "   - Index of elements can be used to iterate. Findthe length of the list and then iterate within the range of length\n",
    "2. Pass statement to skip empty for loop \n",
    "   - For cannot be empty without statement. However using a pass statement can help skip the for loop. Pass is also used for empty control statement, function etc."
   ]
  },
  {
   "cell_type": "code",
   "execution_count": 21,
   "metadata": {},
   "outputs": [
    {
     "name": "stdout",
     "output_type": "stream",
     "text": [
      "Have\n",
      "Fun\n",
      "Learning\n"
     ]
    }
   ],
   "source": [
    "# 1. Iterating using index\n",
    "  \n",
    "mylist = [\"Have\", \"Fun\", \"Learning\"] \n",
    "for index in range(len(mylist)): \n",
    "    print(mylist[index])"
   ]
  },
  {
   "cell_type": "code",
   "execution_count": 22,
   "metadata": {},
   "outputs": [],
   "source": [
    "# 2. Pass statement in for loop\n",
    "for x in [0, 2, 1]:\n",
    "    pass"
   ]
  },
  {
   "cell_type": "code",
   "execution_count": 23,
   "metadata": {},
   "outputs": [
    {
     "name": "stdout",
     "output_type": "stream",
     "text": [
      "Last Letter : y\n"
     ]
    }
   ],
   "source": [
    "for letter in 'have a great day': \n",
    "    pass\n",
    "print('Last Letter :', letter)"
   ]
  }
 ],
 "metadata": {
  "kernelspec": {
   "display_name": "Python 3",
   "language": "python",
   "name": "python3"
  },
  "language_info": {
   "codemirror_mode": {
    "name": "ipython",
    "version": 3
   },
   "file_extension": ".py",
   "mimetype": "text/x-python",
   "name": "python",
   "nbconvert_exporter": "python",
   "pygments_lexer": "ipython3",
   "version": "3.7.4"
  }
 },
 "nbformat": 4,
 "nbformat_minor": 2
}
