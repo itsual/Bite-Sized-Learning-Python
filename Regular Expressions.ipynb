{
 "cells": [
  {
   "cell_type": "markdown",
   "metadata": {},
   "source": [
    "# RegEx:\n",
    "- RegEx (Regular Expression) is a sequence of characters that forms a search pattern\n",
    "- RegEx can be used to check if a string contains the specified search pattern\n",
    "\n",
    "## How to install?\n",
    "- `!pip install regex` - Run this command in jupyter notebook"
   ]
  },
  {
   "cell_type": "code",
   "execution_count": 1,
   "metadata": {},
   "outputs": [],
   "source": [
    "import re"
   ]
  },
  {
   "cell_type": "markdown",
   "metadata": {},
   "source": [
    "## RegEx Functions\n",
    "\n",
    "The re module offers a set of functions that allows us to search a string for a match:\n",
    "\n",
    "- findall - Returns a list containing all matches\n",
    "- search - Returns a Match object if there is a match anywhere in the string\n",
    "- split\t- Returns a list where the string has been split at each match\n",
    "- sub\t- Replaces one or many matches with a string"
   ]
  },
  {
   "cell_type": "markdown",
   "metadata": {},
   "source": [
    "### Metacharacters\n",
    "|Character         | Description          | Example  |\n",
    "| ------------- |:-------------:| ------:|\n",
    "`[]`|\tA set of characters\t|\"[a-m]\"\t\n",
    "`\\`\t|Signals a special sequence (can also be used to escape special characters)\t|\"\\d\"\t\n",
    "`.`\t|Any character (except newline character)\t|\"he..o\"\t\n",
    "`^`\t|Starts with\t|\"^hello\"\t\n",
    "`$`\t|Ends with\t|\"world$\"\t\n",
    "`*`\t|Zero or more occurrences\t|\"aix*\"\t\n",
    "`+`\t|One or more occurrences\t|\"aix+\"\t\n",
    "`{}` |Exactly the specified number of occurrences\t|\"al{2}\"\t\n",
    "`|`\t|Either or\t|\"falls|stays\"\t\n",
    "`()`| Capture and group\t "
   ]
  },
  {
   "cell_type": "markdown",
   "metadata": {},
   "source": [
    "### Special Sequences\n",
    "|Character       | Description          | Example  |\n",
    "| ------------- |:-------------:| ------:|\n",
    "`\\A`\t| Returns a match if the specified characters are at the beginning of the string\t| \"\\AThe\"\t\n",
    "`\\b`\t| Returns a match where the specified characters are at the beginning or at the end of a word\t| r\"\\bain\", r\"ain\\b\"\n",
    "`\\B`\t| Returns a match where the specified characters are present, but NOT at the beginning (or at the end) of a word| r\"\\Bain\" , r\"ain\\B\"\t\n",
    "`\\d`\t| Returns a match where the string contains digits (numbers from 0-9)\t| \"\\d\"\t\n",
    "`\\D`\t| Returns a match where the string DOES NOT contain digits\t| \"\\D\"\t\n",
    "`\\s`\t| Returns a match where the string contains a white space character\t| \"\\s\"\t\n",
    "`\\S`\t| Returns a match where the string DOES NOT contain a white space character\t| \"\\S\"\t\n",
    "`\\w`\t| Returns a match where the string contains any word characters (characters from a to Z, digits from 0-9, and the underscore _ character)\t| \"\\w\"\t\n",
    "`\\W`\t| Returns a match where the string DOES NOT contain any word characters\t| \"\\W\"\t\n",
    "`\\Z`\t| Returns a match if the specified characters are at the end of the string\t| \"India\\Z\""
   ]
  },
  {
   "cell_type": "markdown",
   "metadata": {},
   "source": [
    "### Sets\n",
    "|Set        | Description          |\n",
    "| ------------- |:-------------:|\n",
    "`[arn]`\t|Returns a match where one of the specified characters (a, r, or n) are present\t\n",
    "`[a-n]`\t|Returns a match for any lower case character, alphabetically between a and n\t\n",
    "`[^arn]`\t|Returns a match for any character EXCEPT a, r, and n\t\n",
    "`[0123]`\t|Returns a match where any of the specified digits (0, 1, 2, or 3) are present\t\n",
    "`[0-9]`\t|Returns a match for any digit between 0 and 9\t\n",
    "`[0-5][0-9]`\t|Returns a match for any two-digit numbers from 00 and 59\t\n",
    "`[a-zA-Z]`\t|Returns a match for any character alphabetically between a and z, lower case OR upper case\t\n",
    "`[+]`\t|In sets, +, *, ., |, (), $,{} has no special meaning, so [+] means: return a match for any + character in the string"
   ]
  },
  {
   "cell_type": "markdown",
   "metadata": {},
   "source": [
    "### Supported Regular Expression Flags\n",
    "|Shott Name      | Long Name        | Effect |\n",
    "| ------------- |:-------------:| ------:|\n",
    "re.I\t|re.IGNORECASE\t|Makes matching of alphabetic characters case-insensitive\n",
    "re.M\t|re.MULTILINE\t|Causes start-of-string and end-of-string anchors to match embedded newlines\n",
    "re.S\t|re.DOTALL\t|Causes the dot metacharacter to match a newline\n",
    "re.X\t|re.VERBOSE\t|Allows inclusion of whitespace and comments within a regular expression\n",
    "----\t|re.DEBUG\t|Causes the regex parser to display debugging information to the console\n",
    "re.A\t|re.ASCII\t|Specifies ASCII encoding for character classification\n",
    "re.U\t|re.UNICODE\t|Specifies Unicode encoding for character classification\n",
    "re.L    |re.LOCALE\t|Specifies encoding for character classification based on the current locale"
   ]
  },
  {
   "cell_type": "markdown",
   "metadata": {},
   "source": [
    "### search() function\n",
    "Search the string to see if it starts with \"The\" and ends with \"good\":"
   ]
  },
  {
   "cell_type": "code",
   "execution_count": 2,
   "metadata": {
    "scrolled": true
   },
   "outputs": [
    {
     "name": "stdout",
     "output_type": "stream",
     "text": [
      "Found a match\n"
     ]
    }
   ],
   "source": [
    "text = \"The food was good\"\n",
    "x = re.search(\"^The.*good$\", text)\n",
    "\n",
    "if x:\n",
    "    print(\"Found a match\")\n",
    "else:\n",
    "    print(\"No match\")"
   ]
  },
  {
   "cell_type": "markdown",
   "metadata": {},
   "source": [
    "### findall() function\n",
    "The findall() function returns a list containing all matches"
   ]
  },
  {
   "cell_type": "code",
   "execution_count": 3,
   "metadata": {},
   "outputs": [
    {
     "name": "stdout",
     "output_type": "stream",
     "text": [
      "['oo', 'oo']\n"
     ]
    }
   ],
   "source": [
    "text = \"The food was good\"\n",
    "x = re.findall(\"oo\", text)\n",
    "print(x)"
   ]
  },
  {
   "cell_type": "code",
   "execution_count": 4,
   "metadata": {},
   "outputs": [
    {
     "name": "stdout",
     "output_type": "stream",
     "text": [
      "The first white-space character is located in position: 6\n"
     ]
    }
   ],
   "source": [
    "# Search for the first white-space character in the string:\n",
    "text = \"Indian food was good\"\n",
    "x = re.search(\"\\s\", text)\n",
    "\n",
    "print(\"The first white-space character is located in position:\", x.start())"
   ]
  },
  {
   "cell_type": "code",
   "execution_count": 5,
   "metadata": {},
   "outputs": [
    {
     "name": "stdout",
     "output_type": "stream",
     "text": [
      "['12', '89', '34']\n"
     ]
    }
   ],
   "source": [
    "# Program to extract numbers from a string\n",
    "\n",
    "import re\n",
    "\n",
    "string = 'hello 12 hi 89. Howdy 34'\n",
    "pattern = '\\d+'\n",
    "\n",
    "result = re.findall(pattern, string) \n",
    "print(result)\n",
    "\n",
    "# Output: ['12', '89', '34']"
   ]
  },
  {
   "cell_type": "code",
   "execution_count": 6,
   "metadata": {},
   "outputs": [
    {
     "name": "stdout",
     "output_type": "stream",
     "text": [
      "a#12@gmail.com\n",
      "invalid\n"
     ]
    }
   ],
   "source": [
    "# Valid email ID\n",
    "# Given an email ID, you have to determine if it is valid or not\n",
    "import re\n",
    "def checkmail(email):\n",
    "    check =  bool(re.search(r\"^[\\w\\.\\+\\-]+\\@[A-Za-z]+\\.[a-z]{2,3}$\", email))\n",
    "    if check:\n",
    "        return 'valid'\n",
    "    else:\n",
    "        return 'invalid'\n",
    "email=input()\n",
    "print(checkmail(email))"
   ]
  },
  {
   "cell_type": "markdown",
   "metadata": {},
   "source": [
    "### split() function\n",
    "Split at each white-space character"
   ]
  },
  {
   "cell_type": "code",
   "execution_count": 7,
   "metadata": {},
   "outputs": [
    {
     "name": "stdout",
     "output_type": "stream",
     "text": [
      "['Indian', 'food', 'was', 'good']\n"
     ]
    }
   ],
   "source": [
    "text = \"Indian food was good\"\n",
    "x = re.split(\"\\s\", text)\n",
    "print(x)"
   ]
  },
  {
   "cell_type": "code",
   "execution_count": 8,
   "metadata": {},
   "outputs": [
    {
     "name": "stdout",
     "output_type": "stream",
     "text": [
      "['Indian', 'food was good']\n"
     ]
    }
   ],
   "source": [
    "# You can control the number of occurrences by specifying the maxsplit parameter\n",
    "text = \"Indian food was good\"\n",
    "x = re.split(\"\\s\", text, 1)\n",
    "print(x)"
   ]
  },
  {
   "cell_type": "markdown",
   "metadata": {},
   "source": [
    "### sub() Function\n",
    "The sub() function replaces the matches with the text of your choice"
   ]
  },
  {
   "cell_type": "code",
   "execution_count": 9,
   "metadata": {},
   "outputs": [
    {
     "name": "stdout",
     "output_type": "stream",
     "text": [
      "Indian$food$was$good\n"
     ]
    }
   ],
   "source": [
    "# Replace every white-space character with the number $\n",
    "text = \"Indian food was good\"\n",
    "x = re.sub(\"\\s\", \"$\", text)\n",
    "print(x)"
   ]
  },
  {
   "cell_type": "code",
   "execution_count": 10,
   "metadata": {},
   "outputs": [
    {
     "name": "stdout",
     "output_type": "stream",
     "text": [
      "Indian$food was good\n"
     ]
    }
   ],
   "source": [
    "# You can control the number of replacements by specifying the count parameter\n",
    "text = \"Indian food was good\"\n",
    "x = re.sub(\"\\s\", \"$\", text, 1)\n",
    "print(x)"
   ]
  },
  {
   "cell_type": "code",
   "execution_count": 11,
   "metadata": {},
   "outputs": [
    {
     "name": "stdout",
     "output_type": "stream",
     "text": [
      "abc12de23f456\n"
     ]
    }
   ],
   "source": [
    "# Program to remove all whitespaces\n",
    "import re\n",
    "\n",
    "# multiline string\n",
    "string = 'abc 12\\\n",
    "de 23 \\n f45 6'\n",
    "\n",
    "# matches all whitespace characters\n",
    "pattern = '\\s+'\n",
    "\n",
    "# empty string\n",
    "replace = ''\n",
    "\n",
    "new_string = re.sub(pattern, replace, string) \n",
    "print(new_string)\n",
    "\n",
    "# Output: abc12de23f456"
   ]
  },
  {
   "cell_type": "code",
   "execution_count": 12,
   "metadata": {},
   "outputs": [
    {
     "name": "stdout",
     "output_type": "stream",
     "text": [
      "Invalid\n"
     ]
    }
   ],
   "source": [
    "'''\n",
    "# Password Validation\n",
    "The characteristics of a strong password include:\n",
    "1. it should be at least 8 characters long\n",
    "2. it should have at least one lowercase alphabet.\n",
    "3.it should have at least one uppercase alphabet\n",
    "4. it should have at least one number(0-9)\n",
    "5. it should have at least one special character( a special character is considered among the following: [@%$*])\n",
    "\n",
    "'''\n",
    "\n",
    "pwd= 'DataScience123'\n",
    "#write your code here\n",
    "import re \n",
    "flag = 0\n",
    "while True:   \n",
    "    if (len(pwd)<8): \n",
    "        flag = -1\n",
    "        break\n",
    "    elif not re.search(\"[a-z]\", pwd): \n",
    "        flag = -1\n",
    "        break\n",
    "    elif not re.search(\"[A-Z]\", pwd): \n",
    "        flag = -1\n",
    "        break\n",
    "    elif not re.search(\"[0-9]\", pwd): \n",
    "        flag = -1\n",
    "        break\n",
    "    elif not re.search(\"[@%$*]\", pwd): \n",
    "        flag = -1\n",
    "        break\n",
    "    elif re.search(\"\\s\", pwd): \n",
    "        flag = -1\n",
    "        break\n",
    "    else: \n",
    "        flag = 0\n",
    "        print(\"Valid\") \n",
    "        break\n",
    "\n",
    "if flag ==-1:\n",
    "    print(\"Invalid\")"
   ]
  },
  {
   "cell_type": "markdown",
   "metadata": {},
   "source": [
    "### Match Object\n",
    "A Match Object is an object containing information about the search and the result"
   ]
  },
  {
   "cell_type": "code",
   "execution_count": 13,
   "metadata": {},
   "outputs": [
    {
     "name": "stdout",
     "output_type": "stream",
     "text": [
      "<re.Match object; span=(0, 2), match='In'>\n"
     ]
    }
   ],
   "source": [
    "text = \"Indian food was good\"\n",
    "x = re.search(\"In\", text)\n",
    "print(x)"
   ]
  },
  {
   "cell_type": "markdown",
   "metadata": {},
   "source": [
    "For more details refer below linl\n",
    "- [RegEx_1](https://www.w3schools.com/python/python_regex.asp)\n",
    "- [RegEx_2](https://realpython.com/regex-python/)"
   ]
  },
  {
   "cell_type": "code",
   "execution_count": 14,
   "metadata": {},
   "outputs": [
    {
     "name": "stdout",
     "output_type": "stream",
     "text": [
      "[1, 2, 3, 4, 5, 6, 7, 8, 9]\n"
     ]
    }
   ],
   "source": [
    "# Extras\n",
    "# Some common interveiw questions\n",
    "\n",
    "input_list = [[1,2,3],[4,5],[6,7,8,9]]\n",
    "flat = []\n",
    "for sublist in input_list:\n",
    "    for item in sublist:\n",
    "        flat.append(item)\n",
    "print(flat)"
   ]
  },
  {
   "cell_type": "code",
   "execution_count": 15,
   "metadata": {},
   "outputs": [
    {
     "name": "stdout",
     "output_type": "stream",
     "text": [
      "['a', 'c', 'd']\n"
     ]
    }
   ],
   "source": [
    "# Given a string, you have to find the first n most frequent characters in it.\n",
    "# You have to print the three letters in alphabetically sorted order.\n",
    "from collections import Counter\n",
    "string= 'ddddaacccb'\n",
    "n=3\n",
    "\n",
    "a = Counter(string).most_common(n)\n",
    "b = [i[0] for i in a]\n",
    "b.sort()\n",
    "print(b)"
   ]
  },
  {
   "cell_type": "code",
   "execution_count": null,
   "metadata": {},
   "outputs": [],
   "source": []
  }
 ],
 "metadata": {
  "kernelspec": {
   "display_name": "Python 3",
   "language": "python",
   "name": "python3"
  },
  "language_info": {
   "codemirror_mode": {
    "name": "ipython",
    "version": 3
   },
   "file_extension": ".py",
   "mimetype": "text/x-python",
   "name": "python",
   "nbconvert_exporter": "python",
   "pygments_lexer": "ipython3",
   "version": "3.7.4"
  }
 },
 "nbformat": 4,
 "nbformat_minor": 2
}
